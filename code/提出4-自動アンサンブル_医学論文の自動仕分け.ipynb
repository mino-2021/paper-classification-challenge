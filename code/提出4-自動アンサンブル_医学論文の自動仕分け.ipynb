{
 "cells": [
  {
   "cell_type": "code",
   "execution_count": 1,
   "id": "progressive-publication",
   "metadata": {},
   "outputs": [],
   "source": [
    "# https://nami3373.hatenablog.com/entry/2019/05/27/190500"
   ]
  },
  {
   "cell_type": "code",
   "execution_count": 134,
   "id": "understood-substitute",
   "metadata": {},
   "outputs": [],
   "source": [
    "import os\n",
    "import numpy as np\n",
    "import pandas as pd\n",
    "from scipy.optimize import minimize\n",
    "from sklearn.metrics import mean_squared_error\n",
    "from sklearn.metrics import fbeta_score"
   ]
  },
  {
   "cell_type": "code",
   "execution_count": 3,
   "id": "4e433622",
   "metadata": {},
   "outputs": [],
   "source": [
    "names=['id','title', 'abstract', 'preds']\n",
    "names2=['id','title', 'abstract','text', 'preds']"
   ]
  },
  {
   "cell_type": "code",
   "execution_count": 4,
   "id": "cd71d0e0",
   "metadata": {},
   "outputs": [],
   "source": [
    "sub = pd.read_csv(\"../input/sample_submit.csv\", header=None)"
   ]
  },
  {
   "cell_type": "code",
   "execution_count": 35,
   "id": "loose-mirror",
   "metadata": {},
   "outputs": [
    {
     "data": {
      "text/html": [
       "<div>\n",
       "<style scoped>\n",
       "    .dataframe tbody tr th:only-of-type {\n",
       "        vertical-align: middle;\n",
       "    }\n",
       "\n",
       "    .dataframe tbody tr th {\n",
       "        vertical-align: top;\n",
       "    }\n",
       "\n",
       "    .dataframe thead th {\n",
       "        text-align: right;\n",
       "    }\n",
       "</style>\n",
       "<table border=\"1\" class=\"dataframe\">\n",
       "  <thead>\n",
       "    <tr style=\"text-align: right;\">\n",
       "      <th></th>\n",
       "      <th>id</th>\n",
       "      <th>title</th>\n",
       "      <th>abstract</th>\n",
       "      <th>judgement</th>\n",
       "    </tr>\n",
       "  </thead>\n",
       "  <tbody>\n",
       "    <tr>\n",
       "      <th>0</th>\n",
       "      <td>0</td>\n",
       "      <td>One-year age changes in MRI brain volumes in o...</td>\n",
       "      <td>Longitudinal studies indicate that declines in...</td>\n",
       "      <td>0</td>\n",
       "    </tr>\n",
       "    <tr>\n",
       "      <th>1</th>\n",
       "      <td>1</td>\n",
       "      <td>Supportive CSF biomarker evidence to enhance t...</td>\n",
       "      <td>The present study was undertaken to validate t...</td>\n",
       "      <td>0</td>\n",
       "    </tr>\n",
       "    <tr>\n",
       "      <th>2</th>\n",
       "      <td>2</td>\n",
       "      <td>Occurrence of basal ganglia germ cell tumors w...</td>\n",
       "      <td>Objective: To report a case series in which ba...</td>\n",
       "      <td>0</td>\n",
       "    </tr>\n",
       "    <tr>\n",
       "      <th>3</th>\n",
       "      <td>3</td>\n",
       "      <td>New developments in diagnosis and therapy of C...</td>\n",
       "      <td>The etiology and pathogenesis of idiopathic ch...</td>\n",
       "      <td>0</td>\n",
       "    </tr>\n",
       "    <tr>\n",
       "      <th>4</th>\n",
       "      <td>4</td>\n",
       "      <td>Prolonged shedding of SARS-CoV-2 in an elderly...</td>\n",
       "      <td>NaN</td>\n",
       "      <td>0</td>\n",
       "    </tr>\n",
       "    <tr>\n",
       "      <th>...</th>\n",
       "      <td>...</td>\n",
       "      <td>...</td>\n",
       "      <td>...</td>\n",
       "      <td>...</td>\n",
       "    </tr>\n",
       "    <tr>\n",
       "      <th>27140</th>\n",
       "      <td>27140</td>\n",
       "      <td>The amyloidogenic pathway of amyloid precursor...</td>\n",
       "      <td>Amyloid beta-protein (A beta) is the main cons...</td>\n",
       "      <td>0</td>\n",
       "    </tr>\n",
       "    <tr>\n",
       "      <th>27141</th>\n",
       "      <td>27141</td>\n",
       "      <td>Technologic developments in radiotherapy and s...</td>\n",
       "      <td>We present a review of current technological p...</td>\n",
       "      <td>0</td>\n",
       "    </tr>\n",
       "    <tr>\n",
       "      <th>27142</th>\n",
       "      <td>27142</td>\n",
       "      <td>Novel screening cascade identifies MKK4 as key...</td>\n",
       "      <td>Phosphorylation of Tau at serine 422 promotes ...</td>\n",
       "      <td>0</td>\n",
       "    </tr>\n",
       "    <tr>\n",
       "      <th>27143</th>\n",
       "      <td>27143</td>\n",
       "      <td>Visualization of the gall bladder on F-18 FDOP...</td>\n",
       "      <td>The ability to label dihydroxyphenylalanine (D...</td>\n",
       "      <td>0</td>\n",
       "    </tr>\n",
       "    <tr>\n",
       "      <th>27144</th>\n",
       "      <td>27144</td>\n",
       "      <td>Multidetector CT findings and differential dia...</td>\n",
       "      <td>OBJECTIVE: To compare the multidetector CT (MD...</td>\n",
       "      <td>0</td>\n",
       "    </tr>\n",
       "  </tbody>\n",
       "</table>\n",
       "<p>27145 rows × 4 columns</p>\n",
       "</div>"
      ],
      "text/plain": [
       "          id                                              title  \\\n",
       "0          0  One-year age changes in MRI brain volumes in o...   \n",
       "1          1  Supportive CSF biomarker evidence to enhance t...   \n",
       "2          2  Occurrence of basal ganglia germ cell tumors w...   \n",
       "3          3  New developments in diagnosis and therapy of C...   \n",
       "4          4  Prolonged shedding of SARS-CoV-2 in an elderly...   \n",
       "...      ...                                                ...   \n",
       "27140  27140  The amyloidogenic pathway of amyloid precursor...   \n",
       "27141  27141  Technologic developments in radiotherapy and s...   \n",
       "27142  27142  Novel screening cascade identifies MKK4 as key...   \n",
       "27143  27143  Visualization of the gall bladder on F-18 FDOP...   \n",
       "27144  27144  Multidetector CT findings and differential dia...   \n",
       "\n",
       "                                                abstract  judgement  \n",
       "0      Longitudinal studies indicate that declines in...          0  \n",
       "1      The present study was undertaken to validate t...          0  \n",
       "2      Objective: To report a case series in which ba...          0  \n",
       "3      The etiology and pathogenesis of idiopathic ch...          0  \n",
       "4                                                    NaN          0  \n",
       "...                                                  ...        ...  \n",
       "27140  Amyloid beta-protein (A beta) is the main cons...          0  \n",
       "27141  We present a review of current technological p...          0  \n",
       "27142  Phosphorylation of Tau at serine 422 promotes ...          0  \n",
       "27143  The ability to label dihydroxyphenylalanine (D...          0  \n",
       "27144  OBJECTIVE: To compare the multidetector CT (MD...          0  \n",
       "\n",
       "[27145 rows x 4 columns]"
      ]
     },
     "execution_count": 35,
     "metadata": {},
     "output_type": "execute_result"
    }
   ],
   "source": [
    "train = pd.read_csv(\"../input/train.csv\")\n",
    "train"
   ]
  },
  {
   "cell_type": "code",
   "execution_count": 119,
   "id": "completed-mount",
   "metadata": {},
   "outputs": [],
   "source": [
    "# the max number of files is 5\n",
    "# input format: pd.DataFrame\n",
    "\n",
    "label = [\n",
    "        'preds',\n",
    "        ]\n",
    "def blend(a, b, c = 0, d = 0, e = 0):\n",
    "    if (not isinstance(c, pd.DataFrame)) and (not isinstance(d, pd.DataFrame)) and (not isinstance(e, pd.DataFrame)):\n",
    "        output = a.copy()\n",
    "        for i in label:\n",
    "            output[i] = a[i] * 0.5 + b[i] * 0.5\n",
    "    elif (not isinstance(d, pd.DataFrame)) and (not isinstance(e, pd.DataFrame)):\n",
    "        output = a.copy() # 0.5 + 0.3 + 0.2 \n",
    "        for i in label:\n",
    "            output[i] = a[i] * 0.5 + b[i] * 0.3+ c[i] * 0.2\n",
    "    elif (not isinstance(e, pd.DataFrame)):\n",
    "        output = a.copy()  # 0.45 + 0.25 + 0.2 + 0.1\n",
    "        for i in label:\n",
    "            #output[i] = a[i] * 0.45 + b[i] * 0.25 + c[i] * 0.2 + d[i] * 0.1\n",
    "            output[i] = a[i] * 0.40 + b[i] * 0.35 + c[i] * 0.2 + d[i] * 0.05\n",
    "    else: # 0.35 + 0.3 + 0.2 + 0.1 + 0.05\n",
    "        output = a.copy()\n",
    "        for i in label:\n",
    "            #output[i] = a[i] * 0.35 + b[i] * 0.3 + c[i] * 0.2 + d[i] * 0.1 + e[i] * 0.05\n",
    "            #output[i] = a[i] * 0.20 + b[i] * 0.20 + c[i] * 0.2 + d[i] * 0.2 + e[i] * 0.2\n",
    "            #output[i] = a[i] * 0.40 + b[i] * 0.15 + c[i] * 0.15 + d[i] * 0.15 + e[i] * 0.15\n",
    "            output[i] = a[i] * 0.40 + b[i] * 0.35 + c[i] * 0.10 + d[i] * 0.05+ e[i] * 0.1 #40best \n",
    "    return output\n",
    "\n",
    "def blend6(a, b, c = 0, d = 0, e = 0,f=0):\n",
    "    output = a.copy()\n",
    "    for i in label:\n",
    "        output[i] = (a[i]  + b[i] + c[i]  + d[i]  + e[i] +f[i]) /6.0\n",
    "            \n",
    "    return output\n",
    "\n",
    "def blend7(a, b, c = 0, d = 0, e = 0,f=0,g=0):\n",
    "    output = a.copy()\n",
    "    for i in label:\n",
    "        output[i] = (a[i]  + b[i] + c[i]  + d[i]  + e[i] +f[i] + g[i]) /7.0\n",
    "            \n",
    "    return output\n",
    "\n",
    "def blend8(a, b, c = 0, d = 0, e = 0,f=0,g=0,h=0):\n",
    "    output = a.copy()\n",
    "    for i in label:\n",
    "        output[i] = (a[i]  + b[i] + c[i]  + d[i]  + e[i] +f[i] + g[i] + h[i]) /8.0\n",
    "            \n",
    "    return output\n",
    "\n",
    "def blend_coeff(files, coeff):\n",
    "    output = files[0].copy()\n",
    "    for i in label:\n",
    "        tmp=0\n",
    "        for j in range(len(files)):\n",
    "            tmp += files[j].apply(lambda x: x[i]*coeff[j], axis=1) \n",
    "        output[i] = tmp\n",
    "    return output\n",
    "#df['age'] = df.apply(lambda x: x['age']+3, axis=1)"
   ]
  },
  {
   "cell_type": "code",
   "execution_count": 123,
   "id": "entitled-provider",
   "metadata": {},
   "outputs": [
    {
     "data": {
      "text/html": [
       "<div>\n",
       "<style scoped>\n",
       "    .dataframe tbody tr th:only-of-type {\n",
       "        vertical-align: middle;\n",
       "    }\n",
       "\n",
       "    .dataframe tbody tr th {\n",
       "        vertical-align: top;\n",
       "    }\n",
       "\n",
       "    .dataframe thead th {\n",
       "        text-align: right;\n",
       "    }\n",
       "</style>\n",
       "<table border=\"1\" class=\"dataframe\">\n",
       "  <thead>\n",
       "    <tr style=\"text-align: right;\">\n",
       "      <th></th>\n",
       "      <th>id</th>\n",
       "      <th>title</th>\n",
       "      <th>abstract</th>\n",
       "      <th>preds</th>\n",
       "    </tr>\n",
       "  </thead>\n",
       "  <tbody>\n",
       "    <tr>\n",
       "      <th>27145</th>\n",
       "      <td>Estimating the potential effects of COVID-19 p...</td>\n",
       "      <td>The objective of the paper is to analyse chang...</td>\n",
       "      <td>Estimating the potential effects of COVID-19 p...</td>\n",
       "      <td>0.001641</td>\n",
       "    </tr>\n",
       "    <tr>\n",
       "      <th>27146</th>\n",
       "      <td>Leukoerythroblastic reaction in a patient with...</td>\n",
       "      <td>NaN</td>\n",
       "      <td>Leukoerythroblastic reaction in a patient with...</td>\n",
       "      <td>0.002012</td>\n",
       "    </tr>\n",
       "    <tr>\n",
       "      <th>27147</th>\n",
       "      <td>[15O]-water PET and intraoperative brain mappi...</td>\n",
       "      <td>[15O]-water PET was performed on 12 patients w...</td>\n",
       "      <td>[15O]-water PET and intraoperative brain mappi...</td>\n",
       "      <td>0.002873</td>\n",
       "    </tr>\n",
       "    <tr>\n",
       "      <th>27148</th>\n",
       "      <td>Adaptive image segmentation for robust measure...</td>\n",
       "      <td>We present a method that significantly improve...</td>\n",
       "      <td>Adaptive image segmentation for robust measure...</td>\n",
       "      <td>0.002302</td>\n",
       "    </tr>\n",
       "    <tr>\n",
       "      <th>27149</th>\n",
       "      <td>Comparison of Epidemiological Variations in CO...</td>\n",
       "      <td>The objective of this study is to compare the ...</td>\n",
       "      <td>Comparison of Epidemiological Variations in CO...</td>\n",
       "      <td>0.002780</td>\n",
       "    </tr>\n",
       "  </tbody>\n",
       "</table>\n",
       "</div>"
      ],
      "text/plain": [
       "                                                      id  \\\n",
       "27145  Estimating the potential effects of COVID-19 p...   \n",
       "27146  Leukoerythroblastic reaction in a patient with...   \n",
       "27147  [15O]-water PET and intraoperative brain mappi...   \n",
       "27148  Adaptive image segmentation for robust measure...   \n",
       "27149  Comparison of Epidemiological Variations in CO...   \n",
       "\n",
       "                                                   title  \\\n",
       "27145  The objective of the paper is to analyse chang...   \n",
       "27146                                                NaN   \n",
       "27147  [15O]-water PET was performed on 12 patients w...   \n",
       "27148  We present a method that significantly improve...   \n",
       "27149  The objective of this study is to compare the ...   \n",
       "\n",
       "                                                abstract     preds  \n",
       "27145  Estimating the potential effects of COVID-19 p...  0.001641  \n",
       "27146  Leukoerythroblastic reaction in a patient with...  0.002012  \n",
       "27147  [15O]-water PET and intraoperative brain mappi...  0.002873  \n",
       "27148  Adaptive image segmentation for robust measure...  0.002302  \n",
       "27149  Comparison of Epidemiological Variations in CO...  0.002780  "
      ]
     },
     "execution_count": 123,
     "metadata": {},
     "output_type": "execute_result"
    }
   ],
   "source": [
    "#v40 \n",
    "file1 = pd.read_csv(\"../output/predictions_121.csv\", names=names) #0.787, 0.911  pubmed256\n",
    "file2 = pd.read_csv(\"../output/predictions_119.csv\", names=names) #0.895, 0.909  pubmed512\n",
    "file3 = pd.read_csv(\"../output/predictions_123.csv\", names=names) #0.896, 0.896  pubmed382\n",
    "file4 = pd.read_csv(\"../output/predictions_130.csv\", names=names) #0.8896, 0.9155  pubmed256 pool\n",
    "file5 = pd.read_csv(\"../output/predictions_129.csv\", names=names) #0.896, 0.896  bc2bg256\n",
    "\n",
    "filea = blend(file1, file2 ,file3, file4, file5)\n",
    "filea.head()"
   ]
  },
  {
   "cell_type": "code",
   "execution_count": 124,
   "id": "latest-planner",
   "metadata": {},
   "outputs": [
    {
     "data": {
      "text/html": [
       "<div>\n",
       "<style scoped>\n",
       "    .dataframe tbody tr th:only-of-type {\n",
       "        vertical-align: middle;\n",
       "    }\n",
       "\n",
       "    .dataframe tbody tr th {\n",
       "        vertical-align: top;\n",
       "    }\n",
       "\n",
       "    .dataframe thead th {\n",
       "        text-align: right;\n",
       "    }\n",
       "</style>\n",
       "<table border=\"1\" class=\"dataframe\">\n",
       "  <thead>\n",
       "    <tr style=\"text-align: right;\">\n",
       "      <th></th>\n",
       "      <th>id</th>\n",
       "      <th>title</th>\n",
       "      <th>abstract</th>\n",
       "      <th>preds</th>\n",
       "    </tr>\n",
       "  </thead>\n",
       "  <tbody>\n",
       "    <tr>\n",
       "      <th>27145</th>\n",
       "      <td>Estimating the potential effects of COVID-19 p...</td>\n",
       "      <td>The objective of the paper is to analyse chang...</td>\n",
       "      <td>Estimating the potential effects of COVID-19 p...</td>\n",
       "      <td>0.001641</td>\n",
       "    </tr>\n",
       "    <tr>\n",
       "      <th>27146</th>\n",
       "      <td>Leukoerythroblastic reaction in a patient with...</td>\n",
       "      <td>NaN</td>\n",
       "      <td>Leukoerythroblastic reaction in a patient with...</td>\n",
       "      <td>0.002012</td>\n",
       "    </tr>\n",
       "    <tr>\n",
       "      <th>27147</th>\n",
       "      <td>[15O]-water PET and intraoperative brain mappi...</td>\n",
       "      <td>[15O]-water PET was performed on 12 patients w...</td>\n",
       "      <td>[15O]-water PET and intraoperative brain mappi...</td>\n",
       "      <td>0.002873</td>\n",
       "    </tr>\n",
       "    <tr>\n",
       "      <th>27148</th>\n",
       "      <td>Adaptive image segmentation for robust measure...</td>\n",
       "      <td>We present a method that significantly improve...</td>\n",
       "      <td>Adaptive image segmentation for robust measure...</td>\n",
       "      <td>0.002302</td>\n",
       "    </tr>\n",
       "    <tr>\n",
       "      <th>27149</th>\n",
       "      <td>Comparison of Epidemiological Variations in CO...</td>\n",
       "      <td>The objective of this study is to compare the ...</td>\n",
       "      <td>Comparison of Epidemiological Variations in CO...</td>\n",
       "      <td>0.002780</td>\n",
       "    </tr>\n",
       "  </tbody>\n",
       "</table>\n",
       "</div>"
      ],
      "text/plain": [
       "                                                      id  \\\n",
       "27145  Estimating the potential effects of COVID-19 p...   \n",
       "27146  Leukoerythroblastic reaction in a patient with...   \n",
       "27147  [15O]-water PET and intraoperative brain mappi...   \n",
       "27148  Adaptive image segmentation for robust measure...   \n",
       "27149  Comparison of Epidemiological Variations in CO...   \n",
       "\n",
       "                                                   title  \\\n",
       "27145  The objective of the paper is to analyse chang...   \n",
       "27146                                                NaN   \n",
       "27147  [15O]-water PET was performed on 12 patients w...   \n",
       "27148  We present a method that significantly improve...   \n",
       "27149  The objective of this study is to compare the ...   \n",
       "\n",
       "                                                abstract     preds  \n",
       "27145  Estimating the potential effects of COVID-19 p...  0.001641  \n",
       "27146  Leukoerythroblastic reaction in a patient with...  0.002012  \n",
       "27147  [15O]-water PET and intraoperative brain mappi...  0.002873  \n",
       "27148  Adaptive image segmentation for robust measure...  0.002302  \n",
       "27149  Comparison of Epidemiological Variations in CO...  0.002780  "
      ]
     },
     "execution_count": 124,
     "metadata": {},
     "output_type": "execute_result"
    }
   ],
   "source": [
    "fileb=blend_coeff(files=[file1,file2,file3,file4,file5], coeff=[0.40,0.35,0.10,0.05,0.1])\n",
    "fileb.head()"
   ]
  },
  {
   "cell_type": "code",
   "execution_count": 10,
   "id": "august-diagnosis",
   "metadata": {},
   "outputs": [],
   "source": [
    "# Set random seed for reproduction\n",
    "#np.random.seed(2019)\n",
    "#pred_df = pd.DataFrame(np.random.rand(100000, 5), columns=['pred1', 'pred2', 'pred3', 'pred4', 'pred5'])"
   ]
  },
  {
   "cell_type": "code",
   "execution_count": 367,
   "id": "typical-secondary",
   "metadata": {},
   "outputs": [],
   "source": [
    "oof1 = pd.read_csv(\"../output/oof_df_121_0.77987.csv\")\n",
    "oof1.sort_values('id',inplace=True)\n",
    "oof2 = pd.read_csv(\"../output/oof_df_119_0.89477.csv\")\n",
    "oof2.sort_values('id',inplace=True)\n",
    "oof3 = pd.read_csv(\"../output/oof_df_123_0.89585.csv\")\n",
    "oof3.sort_values('id',inplace=True)\n",
    "oof4 = pd.read_csv(\"../output/oof_df_130_0.88858.csv\")\n",
    "oof4.sort_values('id',inplace=True)\n",
    "oof5 = pd.read_csv(\"../output/oof_df_129_0.88820.csv\")\n",
    "oof5.sort_values('id',inplace=True)"
   ]
  },
  {
   "cell_type": "code",
   "execution_count": 379,
   "id": "related-significance",
   "metadata": {},
   "outputs": [],
   "source": [
    "oof1 = pd.read_csv(\"../output/oof_df_124_0.89474.csv\")\n",
    "oof1.sort_values('id',inplace=True)\n",
    "oof2 = pd.read_csv(\"../output/oof_df_119_0.89477.csv\")\n",
    "oof2.sort_values('id',inplace=True)\n",
    "oof3 = pd.read_csv(\"../output/oof_df_123_0.89585.csv\")\n",
    "oof3.sort_values('id',inplace=True)\n",
    "oof4 = pd.read_csv(\"../output/oof_df_130_0.88858.csv\")\n",
    "oof4.sort_values('id',inplace=True)\n",
    "oof5 = pd.read_csv(\"../output/oof_df_129_0.88820.csv\")\n",
    "oof5.sort_values('id',inplace=True)"
   ]
  },
  {
   "cell_type": "code",
   "execution_count": null,
   "id": "steady-charleston",
   "metadata": {},
   "outputs": [],
   "source": [
    "#file5 = pd.read_csv(\"../output/predictions_129.csv\", names=names) #0.896,  0.896    bc2bg256\n",
    "#file6 = pd.read_csv(\"../output/predictions_130.csv\", names=names) #0.8896, 0.9155   pubmed256   pool\n",
    "#file6 = pd.read_csv(\"../output/predictions_131.csv\", names=names) #0.892,  0.89953  bc2b256    前処理有り\n",
    "#file5 = pd.read_csv(\"../output/predictions_132.csv\", names=names) #0.874,  0.89950  pubmed256　前処理有り\n",
    "#file5 = pd.read_csv(\"../output/predictions_133.csv\", names=names) #0.898,  0.910    pubmed512　前処理有り\n",
    "#file5 = pd.read_csv(\"../output/predictions_134.csv\", names=names) #0.894,  0.903    pubmed512　前処理有り pool\n",
    "#file5 = pd.read_csv(\"../output/predictions_135.csv\", names=names) #0.8965, 0.912    pubmed256　前処理有り pool\n",
    "#file5 = pd.read_csv(\"../output/predictions_136.csv\", names=names) #0.8864, 0.901    euadr256　 前処理有り pool\n",
    "#file5 = pd.read_csv(\"../output/predictions_137.csv\", names=names) #0.900,  0.9165   bc2bg256　 pool\n",
    "#file5 = pd.read_csv(\"../output/predictions_138.csv\", names=names) #0.894,  0.9134   euadr256　 pool\n",
    "#file5 = pd.read_csv(\"../output/predictions_139.csv\", names=names) #0.871,  0.9134   pumed512　 pool\n",
    "#file5 = pd.read_csv(\"../output/predictions_140.csv\", names=names) #0.891,  0.9052   pubmed256　 amp"
   ]
  },
  {
   "cell_type": "code",
   "execution_count": 303,
   "id": "bound-operations",
   "metadata": {},
   "outputs": [],
   "source": [
    "oof1 = pd.read_csv(\"../output/oof_df_140_0.90090.csv\")\n",
    "oof1.sort_values('id',inplace=True)\n",
    "oof2 = pd.read_csv(\"../output/oof_df_119_0.89477.csv\")\n",
    "oof2.sort_values('id',inplace=True)\n",
    "oof3 = pd.read_csv(\"../output/oof_df_130_0.88858.csv\")\n",
    "oof3.sort_values('id',inplace=True)\n",
    "oof4 = pd.read_csv(\"../output/oof_df_137_0.90545.csv\")\n",
    "oof4.sort_values('id',inplace=True)\n",
    "oof5 = pd.read_csv(\"../output/oof_df_140_0.90090.csv\")\n",
    "oof5.sort_values('id',inplace=True)"
   ]
  },
  {
   "cell_type": "code",
   "execution_count": 325,
   "id": "heated-earth",
   "metadata": {},
   "outputs": [],
   "source": [
    "oof1 = pd.read_csv(\"../output/oof_df_119_0.89477.csv\")\n",
    "oof1.sort_values('id',inplace=True)\n",
    "oof2 = pd.read_csv(\"../output/oof_df_133_0.90544.csv\")\n",
    "oof2.sort_values('id',inplace=True)\n",
    "oof3 = pd.read_csv(\"../output/oof_df_130_0.88858.csv\")\n",
    "oof3.sort_values('id',inplace=True)\n",
    "oof4 = pd.read_csv(\"../output/oof_df_137_0.90545.csv\")\n",
    "oof4.sort_values('id',inplace=True)\n",
    "oof5 = pd.read_csv(\"../output/oof_df_140_0.90090.csv\")\n",
    "oof5.sort_values('id',inplace=True)"
   ]
  },
  {
   "cell_type": "code",
   "execution_count": 380,
   "id": "tamil-abortion",
   "metadata": {},
   "outputs": [],
   "source": [
    "pred_df = oof1.copy()\n",
    "pred_df.drop(['abstract','text','fold','title','id','judgement','preds'],axis=1, inplace=True)\n",
    "    #pd.DataFrame(\n",
    "pred_df['pred1'] = oof1['preds']\n",
    "pred_df['pred2'] = oof2['preds']\n",
    "pred_df['pred3'] = oof3['preds']\n",
    "pred_df['pred4'] = oof4['preds']\n",
    "pred_df['pred5'] = oof5['preds']"
   ]
  },
  {
   "cell_type": "code",
   "execution_count": 381,
   "id": "lasting-addition",
   "metadata": {},
   "outputs": [],
   "source": [
    "#np.random.seed(2019)\n",
    "#y_train = pd.Series(np.random.randint(2, size=100000), name='target')\n",
    "y_train=train['judgement']"
   ]
  },
  {
   "cell_type": "code",
   "execution_count": 382,
   "id": "instrumental-radar",
   "metadata": {},
   "outputs": [
    {
     "name": "stdout",
     "output_type": "stream",
     "text": [
      "MSE for pred1: 0.0128939\n",
      "MSE for pred2: 0.0109525\n",
      "MSE for pred3: 0.0125148\n",
      "MSE for pred4: 0.0116346\n",
      "MSE for pred5: 0.0108096\n"
     ]
    }
   ],
   "source": [
    "for i in range(pred_df.shape[1]):\n",
    "    print('MSE for {}: {:.7f}'.format(pred_df.columns[i], \n",
    "                                  mean_squared_error(y_train, pred_df.iloc[:, i])))"
   ]
  },
  {
   "cell_type": "code",
   "execution_count": 415,
   "id": "fleet-process",
   "metadata": {},
   "outputs": [
    {
     "name": "stdout",
     "output_type": "stream",
     "text": [
      "fbeta for pred1: 0.8723066\n",
      "fbeta for pred2: 0.8659133\n",
      "fbeta for pred3: 0.8633576\n",
      "fbeta for pred4: 0.8777771\n",
      "fbeta for pred5: 0.8672746\n"
     ]
    }
   ],
   "source": [
    "border = 0.023282372444280715\n",
    "#border = 0.008\n",
    "#score = fbeta_score(Y_values, np.where(preds < border, 0, 1), beta=7.0)\n",
    "    \n",
    "for i in range(pred_df.shape[1]):\n",
    "    a=pred_df.columns[i]\n",
    "    print('fbeta for {}: {:.7f}'.format(a, \n",
    "                                    fbeta_score(y_train.values, np.where(pred_df[a] < border, 0, 1), beta=7.0)))"
   ]
  },
  {
   "cell_type": "code",
   "execution_count": null,
   "id": "miniature-berry",
   "metadata": {},
   "outputs": [],
   "source": []
  },
  {
   "cell_type": "code",
   "execution_count": 384,
   "id": "anonymous-carolina",
   "metadata": {},
   "outputs": [],
   "source": [
    "# Define the objective function to optimize MSE by using ScyiPy algorithm.\n",
    "def mse_func(weights):\n",
    "    ''' scipy minimize will pass the weights as a numpy array '''\n",
    "    final_prediction = 0\n",
    "    for weight, prediction in zip(weights, predictions):\n",
    "            final_prediction += weight*prediction\n",
    "\n",
    "    return mean_squared_error(Y_values, final_prediction)"
   ]
  },
  {
   "cell_type": "code",
   "execution_count": 401,
   "id": "efficient-bennett",
   "metadata": {},
   "outputs": [],
   "source": [
    "def fbeta_func(weights):\n",
    "    border = 0.023282372444280715\n",
    "    \n",
    "    filec=blend_coeff(files=[oof1,oof2,oof3,oof4,oof5], coeff=weights)\n",
    "    \n",
    "    score = fbeta_score(Y_values, np.where(filec[\"preds\"] < border, 0, 1), beta=7.0)\n",
    "    \n",
    "    return score"
   ]
  },
  {
   "cell_type": "code",
   "execution_count": 386,
   "id": "extraordinary-experience",
   "metadata": {},
   "outputs": [],
   "source": [
    "Y_values = y_train.values\n",
    "\n",
    "lls = []\n",
    "wghts = []\n",
    "predictions = []\n",
    "for i in range(pred_df.shape[1]):\n",
    "    predictions.append(np.array(pred_df.iloc[:, i]))"
   ]
  },
  {
   "cell_type": "markdown",
   "id": "elegant-jersey",
   "metadata": {},
   "source": [
    "### Use SLSQP as a solver\n",
    "Inspired by the Kaggle kernels below; <br>\n",
    "https://www.kaggle.com/hamzaben/tuned-random-forest-lasso-and-xgboost-regressors https://www.kaggle.com/rishiarora/finding-ensemble-weights"
   ]
  },
  {
   "cell_type": "code",
   "execution_count": 387,
   "id": "inappropriate-quantity",
   "metadata": {},
   "outputs": [
    {
     "name": "stdout",
     "output_type": "stream",
     "text": [
      "CPU times: user 2.34 s, sys: 0 ns, total: 2.34 s\n",
      "Wall time: 2.34 s\n"
     ]
    }
   ],
   "source": [
    "%%time\n",
    "lls = []\n",
    "wghts = []\n",
    "# Optimization runs 100 times.\n",
    "for i in range(200):\n",
    "    starting_values = np.random.uniform(size=pred_df.shape[1])\n",
    "    starting_values = [1,0,0,0,0]\n",
    "    # cons are given as constraints.\n",
    "    cons = ({'type':'eq','fun':lambda w: 1-sum(w)})\n",
    "    bounds = [(0,1)]*len(predictions)\n",
    "    \n",
    "    res = minimize(mse_func, starting_values, constraints=cons, #fbeta_func\n",
    "                   bounds = bounds, method='SLSQP')\n",
    "\n",
    "    lls.append(res['fun'])\n",
    "    wghts.append(res['x'])"
   ]
  },
  {
   "cell_type": "code",
   "execution_count": 402,
   "id": "present-marketplace",
   "metadata": {},
   "outputs": [
    {
     "name": "stdout",
     "output_type": "stream",
     "text": [
      "\n",
      " Ensemble Score: 0.0097488\n",
      "\n",
      " Best Weights: [0.09257545 0.28150868 0.11838947 0.18100508 0.32652132]\n",
      "MSE: 0.0097488\n",
      "0.9113479471963184\n"
     ]
    }
   ],
   "source": [
    "bestSC = np.min(lls)\n",
    "bestWght = wghts[np.argmin(lls)]\n",
    "\n",
    "print('\\n Ensemble Score: {best_score:.7f}'.format(best_score=bestSC))\n",
    "print('\\n Best Weights: {weights:}'.format(weights=bestWght))\n",
    "print('MSE: {:.7f}'.format(mean_squared_error(y_train, np.sum(bestWght * pred_df, axis=1))))\n",
    "print(fbeta_func(bestWght))"
   ]
  },
  {
   "cell_type": "code",
   "execution_count": 342,
   "id": "answering-piano",
   "metadata": {},
   "outputs": [
    {
     "name": "stdout",
     "output_type": "stream",
     "text": [
      "[0.19747128 0.31964631 0.00057598 0.24644011 0.23586631]\n"
     ]
    },
    {
     "data": {
      "text/html": [
       "<div>\n",
       "<style scoped>\n",
       "    .dataframe tbody tr th:only-of-type {\n",
       "        vertical-align: middle;\n",
       "    }\n",
       "\n",
       "    .dataframe tbody tr th {\n",
       "        vertical-align: top;\n",
       "    }\n",
       "\n",
       "    .dataframe thead th {\n",
       "        text-align: right;\n",
       "    }\n",
       "</style>\n",
       "<table border=\"1\" class=\"dataframe\">\n",
       "  <thead>\n",
       "    <tr style=\"text-align: right;\">\n",
       "      <th></th>\n",
       "      <th>id</th>\n",
       "      <th>title</th>\n",
       "      <th>abstract</th>\n",
       "      <th>preds</th>\n",
       "    </tr>\n",
       "  </thead>\n",
       "  <tbody>\n",
       "    <tr>\n",
       "      <th>27145</th>\n",
       "      <td>Estimating the potential effects of COVID-19 p...</td>\n",
       "      <td>The objective of the paper is to analyse chang...</td>\n",
       "      <td>Estimating the potential effects of COVID-19 p...</td>\n",
       "      <td>0.000977</td>\n",
       "    </tr>\n",
       "    <tr>\n",
       "      <th>27146</th>\n",
       "      <td>Leukoerythroblastic reaction in a patient with...</td>\n",
       "      <td>NaN</td>\n",
       "      <td>Leukoerythroblastic reaction in a patient with...</td>\n",
       "      <td>0.001665</td>\n",
       "    </tr>\n",
       "    <tr>\n",
       "      <th>27147</th>\n",
       "      <td>[15O]-water PET and intraoperative brain mappi...</td>\n",
       "      <td>[15O]-water PET was performed on 12 patients w...</td>\n",
       "      <td>[15O]-water PET and intraoperative brain mappi...</td>\n",
       "      <td>0.001777</td>\n",
       "    </tr>\n",
       "    <tr>\n",
       "      <th>27148</th>\n",
       "      <td>Adaptive image segmentation for robust measure...</td>\n",
       "      <td>We present a method that significantly improve...</td>\n",
       "      <td>Adaptive image segmentation for robust measure...</td>\n",
       "      <td>0.001753</td>\n",
       "    </tr>\n",
       "    <tr>\n",
       "      <th>27149</th>\n",
       "      <td>Comparison of Epidemiological Variations in CO...</td>\n",
       "      <td>The objective of this study is to compare the ...</td>\n",
       "      <td>Comparison of Epidemiological Variations in CO...</td>\n",
       "      <td>0.001138</td>\n",
       "    </tr>\n",
       "  </tbody>\n",
       "</table>\n",
       "</div>"
      ],
      "text/plain": [
       "                                                      id  \\\n",
       "27145  Estimating the potential effects of COVID-19 p...   \n",
       "27146  Leukoerythroblastic reaction in a patient with...   \n",
       "27147  [15O]-water PET and intraoperative brain mappi...   \n",
       "27148  Adaptive image segmentation for robust measure...   \n",
       "27149  Comparison of Epidemiological Variations in CO...   \n",
       "\n",
       "                                                   title  \\\n",
       "27145  The objective of the paper is to analyse chang...   \n",
       "27146                                                NaN   \n",
       "27147  [15O]-water PET was performed on 12 patients w...   \n",
       "27148  We present a method that significantly improve...   \n",
       "27149  The objective of this study is to compare the ...   \n",
       "\n",
       "                                                abstract     preds  \n",
       "27145  Estimating the potential effects of COVID-19 p...  0.000977  \n",
       "27146  Leukoerythroblastic reaction in a patient with...  0.001665  \n",
       "27147  [15O]-water PET and intraoperative brain mappi...  0.001777  \n",
       "27148  Adaptive image segmentation for robust measure...  0.001753  \n",
       "27149  Comparison of Epidemiological Variations in CO...  0.001138  "
      ]
     },
     "execution_count": 342,
     "metadata": {},
     "output_type": "execute_result"
    }
   ],
   "source": [
    "filec=blend_coeff(files=[file1,file2,file3,file4,file5], coeff=bestWght)\n",
    "print(bestWght)\n",
    "filec.head()"
   ]
  },
  {
   "cell_type": "markdown",
   "id": "million-action",
   "metadata": {},
   "source": [
    "Use L-BFGS-B as a solver <br>\n",
    "Inspired by the Kaggle kernel below; <br>\n",
    "https://www.kaggle.com/tilii7/ensemble-weights-minimization-vs-mcmc"
   ]
  },
  {
   "cell_type": "code",
   "execution_count": 238,
   "id": "naval-twelve",
   "metadata": {},
   "outputs": [
    {
     "name": "stdout",
     "output_type": "stream",
     "text": [
      "CPU times: user 3.59 s, sys: 0 ns, total: 3.59 s\n",
      "Wall time: 3.59 s\n"
     ]
    }
   ],
   "source": [
    "%%time\n",
    "# Optimization runs 100 times.\n",
    "for i in range(200):\n",
    "    starting_values = np.random.uniform(size=pred_df.shape[1])\n",
    "    a=1/pred_df.shape[1]\n",
    "    starting_values = [a,a,a,a,a]\n",
    "    bounds = [(0,1)]*len(predictions)\n",
    "    \n",
    "    res = minimize(mse_func, starting_values, method='L-BFGS-B', \n",
    "                   bounds=bounds, options={'disp': False, 'maxiter': 100000})\n",
    "\n",
    "    lls.append(res['fun'])\n",
    "    wghts.append(res['x'])"
   ]
  },
  {
   "cell_type": "code",
   "execution_count": 239,
   "id": "mineral-engagement",
   "metadata": {},
   "outputs": [
    {
     "name": "stdout",
     "output_type": "stream",
     "text": [
      "\n",
      " Ensemble Score: 0.0096532\n",
      "\n",
      " Best Weights: [0.         0.32685107 0.17236832 0.20957497 0.39760871]\n",
      "MSE: 0.0096532\n",
      "0.9130763416477701\n"
     ]
    }
   ],
   "source": [
    "bestSC = np.min(lls)\n",
    "bestWght = wghts[np.argmin(lls)]\n",
    "\n",
    "print('\\n Ensemble Score: {best_score:.7f}'.format(best_score=bestSC))\n",
    "print('\\n Best Weights: {weights:}'.format(weights=bestWght))\n",
    "print('MSE: {:.7f}'.format(mean_squared_error(y_train, np.sum(bestWght * pred_df, axis=1))))\n",
    "print(fbeta_func(bestWght))"
   ]
  },
  {
   "cell_type": "code",
   "execution_count": 242,
   "id": "fitted-astronomy",
   "metadata": {},
   "outputs": [
    {
     "name": "stdout",
     "output_type": "stream",
     "text": [
      "0.9086525421174769\n"
     ]
    }
   ],
   "source": [
    "print(fbeta_func([0.4,0.35,0.1,0.05,0.1]))"
   ]
  },
  {
   "cell_type": "code",
   "execution_count": 144,
   "id": "genetic-military",
   "metadata": {},
   "outputs": [],
   "source": [
    "#file5 = pd.read_csv(\"../output/predictions_129.csv\", names=names) #0.896,  0.896    bc2bg256\n",
    "#file6 = pd.read_csv(\"../output/predictions_130.csv\", names=names) #0.8896, 0.9155   pubmed256   pool\n",
    "#file6 = pd.read_csv(\"../output/predictions_131.csv\", names=names) #0.892,  0.89953  bc2b256    前処理有り\n",
    "#file5 = pd.read_csv(\"../output/predictions_132.csv\", names=names) #0.874,  0.89950  pubmed256　前処理有り\n",
    "#file5 = pd.read_csv(\"../output/predictions_133.csv\", names=names) #0.898,  0.910    pubmed512　前処理有り\n",
    "#file5 = pd.read_csv(\"../output/predictions_134.csv\", names=names) #0.894,  0.903    pubmed512　前処理有り pool\n",
    "#file5 = pd.read_csv(\"../output/predictions_135.csv\", names=names) #0.8965, 0.912    pubmed256　前処理有り pool\n",
    "#file5 = pd.read_csv(\"../output/predictions_136.csv\", names=names) #0.8864, 0.901    euadr256　 前処理有り pool\n",
    "#file5 = pd.read_csv(\"../output/predictions_137.csv\", names=names) #0.900,  0.9165   bc2bg256　 pool\n",
    "#file5 = pd.read_csv(\"../output/predictions_138.csv\", names=names) #0.894,  0.9134   euadr256　 pool\n",
    "#file5 = pd.read_csv(\"../output/predictions_139.csv\", names=names) #0.871,  0.9134   pumed512　 pool\n",
    "#file5 = pd.read_csv(\"../output/predictions_140.csv\", names=names) #0.891,  0.9052   pubmed256　 amp"
   ]
  },
  {
   "cell_type": "code",
   "execution_count": 343,
   "id": "75e714f0",
   "metadata": {},
   "outputs": [
    {
     "name": "stdout",
     "output_type": "stream",
     "text": [
      "[0.19747128 0.31964631 0.00057598 0.24644011 0.23586631]\n"
     ]
    },
    {
     "data": {
      "text/plain": [
       "0    37703\n",
       "1     3131\n",
       "Name: 1, dtype: int64"
      ]
     },
     "execution_count": 343,
     "metadata": {},
     "output_type": "execute_result"
    }
   ],
   "source": [
    "border = 0.023282372444280715\n",
    "predictions = np.where(filec[\"preds\"] < border, 0, 1)\n",
    "print(bestWght)\n",
    " # submission\n",
    "sub[1] = predictions\n",
    "sub.to_csv(\"../output/ensemble_submission_47.csv\", index=False, header=False)\n",
    "sub[1].value_counts()"
   ]
  },
  {
   "cell_type": "code",
   "execution_count": 8,
   "id": "2436d7e3",
   "metadata": {},
   "outputs": [
    {
     "data": {
      "text/plain": [
       "0    37546\n",
       "1     3288\n",
       "Name: 1, dtype: int64"
      ]
     },
     "execution_count": 8,
     "metadata": {},
     "output_type": "execute_result"
    }
   ],
   "source": [
    "sub = pd.read_csv(\"../output/ensemble_submission_34-4.csv\", header=None)\n",
    "sub[1].value_counts()"
   ]
  },
  {
   "cell_type": "code",
   "execution_count": 344,
   "id": "a9ad4c10",
   "metadata": {},
   "outputs": [
    {
     "data": {
      "text/plain": [
       "<AxesSubplot:>"
      ]
     },
     "execution_count": 344,
     "metadata": {},
     "output_type": "execute_result"
    },
    {
     "data": {
      "image/png": "[encoded data removed]",
      "text/plain": [
       "<Figure size 1152x288 with 1 Axes>"
      ]
     },
     "metadata": {
      "needs_background": "light"
     },
     "output_type": "display_data"
    }
   ],
   "source": [
    "import matplotlib.pyplot as plt\n",
    "plt.subplots(figsize=(16,4))\n",
    "plt.ylim(0,1000)\n",
    "\n",
    "file5['preds'].hist(bins=30,cumulative=False,rwidth=0.7)\n",
    "file4['preds'].hist(bins=30,cumulative=False,rwidth=0.6)\n",
    "file3['preds'].hist(bins=30,cumulative=False,rwidth=0.5)\n",
    "file1['preds'].hist(bins=30,cumulative=False,rwidth=0.4)\n",
    "file2['preds'].hist(bins=30,cumulative=False,rwidth=0.3)"
   ]
  },
  {
   "cell_type": "code",
   "execution_count": null,
   "id": "5b193bbc",
   "metadata": {},
   "outputs": [],
   "source": []
  }
 ],
 "metadata": {
  "kernelspec": {
   "display_name": "Python 3",
   "language": "python",
   "name": "python3"
  },
  "language_info": {
   "codemirror_mode": {
    "name": "ipython",
    "version": 3
   },
   "file_extension": ".py",
   "mimetype": "text/x-python",
   "name": "python",
   "nbconvert_exporter": "python",
   "pygments_lexer": "ipython3",
   "version": "3.7.10"
  }
 },
 "nbformat": 4,
 "nbformat_minor": 5
}
